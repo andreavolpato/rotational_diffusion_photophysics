{
 "metadata": {
  "language_info": {
   "codemirror_mode": {
    "name": "ipython",
    "version": 3
   },
   "file_extension": ".py",
   "mimetype": "text/x-python",
   "name": "python",
   "nbconvert_exporter": "python",
   "pygments_lexer": "ipython3",
   "version": "3.7.7"
  },
  "orig_nbformat": 2,
  "kernelspec": {
   "name": "python377jvsc74a57bd03be4393fbdaea0d3e38eb40ac2d5883d2125b4b1de2024ee4d550ff09fb43fc4",
   "display_name": "Python 3.7.7 64-bit ('base': conda)"
  }
 },
 "nbformat": 4,
 "nbformat_minor": 2,
 "cells": [
  {
   "cell_type": "code",
   "execution_count": 2,
   "source": [
    "import sys; sys.path.insert(0, 'C:/Users/andre/Documents/GitHub/rotational_diffusion_photophysics/plot')\r\n",
    "from plot_data_sphere import plot_data_sphere\r\n",
    "from plot_sphere_series import plot_sphere_series\r\n",
    "from rotational_diffusion_photophysics_models import starss2, starss1\r\n",
    "import rotational_diffusion_photophysics as rdp\r\n",
    "import numpy as np\r\n",
    "import matplotlib.pyplot as plt"
   ],
   "outputs": [],
   "metadata": {}
  },
  {
   "cell_type": "code",
   "execution_count": 17,
   "source": [
    "# # setup for figure\r\n",
    "# fig = plt.figure(figsize=(5,5))\r\n",
    "# ax = fig.add_subplot(111, projection='3d')\r\n",
    "\r\n",
    "\r\n",
    "# cos2 photoselection along x\r\n",
    "lmax = 50\r\n",
    "omega = rdp.make_angles(lmax)\r\n",
    "c0a = 1 +  0*omega[0]\r\n",
    "c0grid, c0, c0coeffs = rdp.make_grid(c0a, lmax)\r\n",
    "\r\n",
    "# fig1 = plt.figure(dpi=300)\r\n",
    "# c0grid = rdp.vec2grid(c0)\r\n",
    "# rdp.plot_proj(c0grid, clims=[])\r\n",
    "# plt.savefig('x_cos2_projection.png')\r\n",
    "\r\n",
    "# plot_data_sphere(ax, c0grid.data, cmap=plt.cm.Blues, scale=3, vmin=0, vmax=1)"
   ],
   "outputs": [],
   "metadata": {}
  },
  {
   "cell_type": "code",
   "execution_count": 16,
   "source": [
    "c0"
   ],
   "outputs": [
    {
     "output_type": "execute_result",
     "data": {
      "text/plain": [
       "array([1., 0., 0., ..., 0., 0., 0.])"
      ]
     },
     "metadata": {},
     "execution_count": 16
    }
   ],
   "metadata": {}
  }
 ]
}