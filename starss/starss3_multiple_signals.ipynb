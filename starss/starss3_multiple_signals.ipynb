{
 "metadata": {
  "language_info": {
   "codemirror_mode": {
    "name": "ipython",
    "version": 3
   },
   "file_extension": ".py",
   "mimetype": "text/x-python",
   "name": "python",
   "nbconvert_exporter": "python",
   "pygments_lexer": "ipython3",
   "version": "3.7.7"
  },
  "orig_nbformat": 2,
  "kernelspec": {
   "name": "python377jvsc74a57bd03be4393fbdaea0d3e38eb40ac2d5883d2125b4b1de2024ee4d550ff09fb43fc4",
   "display_name": "Python 3.7.7 64-bit ('base': conda)"
  }
 },
 "nbformat": 4,
 "nbformat_minor": 2,
 "cells": [
  {
   "cell_type": "code",
   "execution_count": 2,
   "metadata": {},
   "outputs": [],
   "source": [
    "import numpy as np\n",
    "import matplotlib.pyplot as plt\n",
    "from matplotlib.ticker import ScalarFormatter\n",
    "import sys; \n",
    "sys.path.insert(0, 'C:/Users/andre/Documents/GitHub/rotational_diffusion_photophysics')\n",
    "sys.path.insert(0, 'C:/Users/andre/Documents/GitHub/rotational_diffusion_photophysics/plot')\n",
    "import rotational_diffusion_photophysics as rdp\n",
    "from plot_pulse_scheme import plot_pulse_scheme\n",
    "from plot_sphere_series import plot_sphere_series\n",
    "from rotational_diffusion_photophysics_models import starss1, starss2, starss3, starss3_detector_signals, isotropic_diffusion"
   ]
  },
  {
   "cell_type": "code",
   "execution_count": 10,
   "metadata": {},
   "outputs": [
    {
     "output_type": "stream",
     "name": "stderr",
     "text": [
      "C:/Users/andre/Documents/GitHub/rotational_diffusion_photophysics\\rotational_diffusion_photophysics.py:843: RuntimeWarning: overflow encountered in exp\n  ci = np.matmul(ci0, np.diag(np.exp(L*time[i])))\nC:/Users/andre/Documents/GitHub/rotational_diffusion_photophysics\\rotational_diffusion_photophysics.py:844: RuntimeWarning: invalid value encountered in matmul\n  ci = np.matmul(ci, UTr)\n"
     ]
    }
   ],
   "source": [
    "# Rotational diffusion time of target systems\n",
    "taus =  np.array([1e-6, 3e-6, 10e-6, 30e-6, 100e-6, 300e-6, 1e-3, 3e-3]) \n",
    "\n",
    "# STARSS1 signal\n",
    "# t = np.linspace(-250e-6,1e-3,4000) # Time in a linearly spaced axis\n",
    "t = np.logspace(-6,3,12) # Time in a log spaced axis\n",
    "ss = [] # Signals\n",
    "\n",
    "for tau in taus:\n",
    "    diffusion = isotropic_diffusion(tau)\n",
    "    starss3.diffusion = diffusion\n",
    "    s = starss3_detector_signals(t, experiment=starss3)\n",
    "    ss.append(s)\n"
   ]
  },
  {
   "cell_type": "code",
   "execution_count": 12,
   "metadata": {},
   "outputs": [
    {
     "output_type": "stream",
     "name": "stderr",
     "text": [
      "C:\\Users\\andre\\miniconda3\\lib\\site-packages\\numpy\\core\\_asarray.py:136: VisibleDeprecationWarning: Creating an ndarray from ragged nested sequences (which is a list-or-tuple of lists-or-tuples-or ndarrays with different lengths or shapes) is deprecated. If you meant to do this, you must specify 'dtype=object' when creating the ndarray\n  return array(a, dtype, copy=False, order=order, subok=True)\n"
     ]
    },
    {
     "output_type": "error",
     "ename": "ValueError",
     "evalue": "x and y must have same first dimension, but have shapes (12,) and (2,)",
     "traceback": [
      "\u001b[1;31m---------------------------------------------------------------------------\u001b[0m",
      "\u001b[1;31mValueError\u001b[0m                                Traceback (most recent call last)",
      "\u001b[1;32m<ipython-input-12-0e3aa2ce3a49>\u001b[0m in \u001b[0;36m<module>\u001b[1;34m\u001b[0m\n\u001b[0;32m      2\u001b[0m \u001b[0mfig2\u001b[0m\u001b[1;33m.\u001b[0m\u001b[0mset_dpi\u001b[0m\u001b[1;33m(\u001b[0m\u001b[1;36m150\u001b[0m\u001b[1;33m)\u001b[0m\u001b[1;33m\u001b[0m\u001b[1;33m\u001b[0m\u001b[0m\n\u001b[0;32m      3\u001b[0m \u001b[1;32mfor\u001b[0m \u001b[1;33m(\u001b[0m\u001b[0ms\u001b[0m\u001b[1;33m,\u001b[0m \u001b[0mtau\u001b[0m\u001b[1;33m)\u001b[0m \u001b[1;32min\u001b[0m \u001b[0mzip\u001b[0m\u001b[1;33m(\u001b[0m\u001b[0mss\u001b[0m\u001b[1;33m,\u001b[0m\u001b[0mtaus\u001b[0m\u001b[1;33m)\u001b[0m\u001b[1;33m:\u001b[0m\u001b[1;33m\u001b[0m\u001b[1;33m\u001b[0m\u001b[0m\n\u001b[1;32m----> 4\u001b[1;33m     \u001b[0max2\u001b[0m\u001b[1;33m.\u001b[0m\u001b[0mplot\u001b[0m\u001b[1;33m(\u001b[0m\u001b[0mt\u001b[0m\u001b[1;33m,\u001b[0m\u001b[0ms\u001b[0m\u001b[1;33m)\u001b[0m\u001b[1;33m\u001b[0m\u001b[1;33m\u001b[0m\u001b[0m\n\u001b[0m\u001b[0;32m      5\u001b[0m \u001b[1;33m\u001b[0m\u001b[0m\n\u001b[0;32m      6\u001b[0m \u001b[0max2\u001b[0m\u001b[1;33m.\u001b[0m\u001b[0mset_xlabel\u001b[0m\u001b[1;33m(\u001b[0m\u001b[1;34m'Time (s)'\u001b[0m\u001b[1;33m)\u001b[0m\u001b[1;33m\u001b[0m\u001b[1;33m\u001b[0m\u001b[0m\n",
      "\u001b[1;32m~\\miniconda3\\lib\\site-packages\\matplotlib\\axes\\_axes.py\u001b[0m in \u001b[0;36mplot\u001b[1;34m(self, scalex, scaley, data, *args, **kwargs)\u001b[0m\n\u001b[0;32m   1741\u001b[0m         \"\"\"\n\u001b[0;32m   1742\u001b[0m         \u001b[0mkwargs\u001b[0m \u001b[1;33m=\u001b[0m \u001b[0mcbook\u001b[0m\u001b[1;33m.\u001b[0m\u001b[0mnormalize_kwargs\u001b[0m\u001b[1;33m(\u001b[0m\u001b[0mkwargs\u001b[0m\u001b[1;33m,\u001b[0m \u001b[0mmlines\u001b[0m\u001b[1;33m.\u001b[0m\u001b[0mLine2D\u001b[0m\u001b[1;33m)\u001b[0m\u001b[1;33m\u001b[0m\u001b[1;33m\u001b[0m\u001b[0m\n\u001b[1;32m-> 1743\u001b[1;33m         \u001b[0mlines\u001b[0m \u001b[1;33m=\u001b[0m \u001b[1;33m[\u001b[0m\u001b[1;33m*\u001b[0m\u001b[0mself\u001b[0m\u001b[1;33m.\u001b[0m\u001b[0m_get_lines\u001b[0m\u001b[1;33m(\u001b[0m\u001b[1;33m*\u001b[0m\u001b[0margs\u001b[0m\u001b[1;33m,\u001b[0m \u001b[0mdata\u001b[0m\u001b[1;33m=\u001b[0m\u001b[0mdata\u001b[0m\u001b[1;33m,\u001b[0m \u001b[1;33m**\u001b[0m\u001b[0mkwargs\u001b[0m\u001b[1;33m)\u001b[0m\u001b[1;33m]\u001b[0m\u001b[1;33m\u001b[0m\u001b[1;33m\u001b[0m\u001b[0m\n\u001b[0m\u001b[0;32m   1744\u001b[0m         \u001b[1;32mfor\u001b[0m \u001b[0mline\u001b[0m \u001b[1;32min\u001b[0m \u001b[0mlines\u001b[0m\u001b[1;33m:\u001b[0m\u001b[1;33m\u001b[0m\u001b[1;33m\u001b[0m\u001b[0m\n\u001b[0;32m   1745\u001b[0m             \u001b[0mself\u001b[0m\u001b[1;33m.\u001b[0m\u001b[0madd_line\u001b[0m\u001b[1;33m(\u001b[0m\u001b[0mline\u001b[0m\u001b[1;33m)\u001b[0m\u001b[1;33m\u001b[0m\u001b[1;33m\u001b[0m\u001b[0m\n",
      "\u001b[1;32m~\\miniconda3\\lib\\site-packages\\matplotlib\\axes\\_base.py\u001b[0m in \u001b[0;36m__call__\u001b[1;34m(self, data, *args, **kwargs)\u001b[0m\n\u001b[0;32m    271\u001b[0m                 \u001b[0mthis\u001b[0m \u001b[1;33m+=\u001b[0m \u001b[0margs\u001b[0m\u001b[1;33m[\u001b[0m\u001b[1;36m0\u001b[0m\u001b[1;33m]\u001b[0m\u001b[1;33m,\u001b[0m\u001b[1;33m\u001b[0m\u001b[1;33m\u001b[0m\u001b[0m\n\u001b[0;32m    272\u001b[0m                 \u001b[0margs\u001b[0m \u001b[1;33m=\u001b[0m \u001b[0margs\u001b[0m\u001b[1;33m[\u001b[0m\u001b[1;36m1\u001b[0m\u001b[1;33m:\u001b[0m\u001b[1;33m]\u001b[0m\u001b[1;33m\u001b[0m\u001b[1;33m\u001b[0m\u001b[0m\n\u001b[1;32m--> 273\u001b[1;33m             \u001b[1;32myield\u001b[0m \u001b[1;32mfrom\u001b[0m \u001b[0mself\u001b[0m\u001b[1;33m.\u001b[0m\u001b[0m_plot_args\u001b[0m\u001b[1;33m(\u001b[0m\u001b[0mthis\u001b[0m\u001b[1;33m,\u001b[0m \u001b[0mkwargs\u001b[0m\u001b[1;33m)\u001b[0m\u001b[1;33m\u001b[0m\u001b[1;33m\u001b[0m\u001b[0m\n\u001b[0m\u001b[0;32m    274\u001b[0m \u001b[1;33m\u001b[0m\u001b[0m\n\u001b[0;32m    275\u001b[0m     \u001b[1;32mdef\u001b[0m \u001b[0mget_next_color\u001b[0m\u001b[1;33m(\u001b[0m\u001b[0mself\u001b[0m\u001b[1;33m)\u001b[0m\u001b[1;33m:\u001b[0m\u001b[1;33m\u001b[0m\u001b[1;33m\u001b[0m\u001b[0m\n",
      "\u001b[1;32m~\\miniconda3\\lib\\site-packages\\matplotlib\\axes\\_base.py\u001b[0m in \u001b[0;36m_plot_args\u001b[1;34m(self, tup, kwargs)\u001b[0m\n\u001b[0;32m    397\u001b[0m \u001b[1;33m\u001b[0m\u001b[0m\n\u001b[0;32m    398\u001b[0m         \u001b[1;32mif\u001b[0m \u001b[0mx\u001b[0m\u001b[1;33m.\u001b[0m\u001b[0mshape\u001b[0m\u001b[1;33m[\u001b[0m\u001b[1;36m0\u001b[0m\u001b[1;33m]\u001b[0m \u001b[1;33m!=\u001b[0m \u001b[0my\u001b[0m\u001b[1;33m.\u001b[0m\u001b[0mshape\u001b[0m\u001b[1;33m[\u001b[0m\u001b[1;36m0\u001b[0m\u001b[1;33m]\u001b[0m\u001b[1;33m:\u001b[0m\u001b[1;33m\u001b[0m\u001b[1;33m\u001b[0m\u001b[0m\n\u001b[1;32m--> 399\u001b[1;33m             raise ValueError(f\"x and y must have same first dimension, but \"\n\u001b[0m\u001b[0;32m    400\u001b[0m                              f\"have shapes {x.shape} and {y.shape}\")\n\u001b[0;32m    401\u001b[0m         \u001b[1;32mif\u001b[0m \u001b[0mx\u001b[0m\u001b[1;33m.\u001b[0m\u001b[0mndim\u001b[0m \u001b[1;33m>\u001b[0m \u001b[1;36m2\u001b[0m \u001b[1;32mor\u001b[0m \u001b[0my\u001b[0m\u001b[1;33m.\u001b[0m\u001b[0mndim\u001b[0m \u001b[1;33m>\u001b[0m \u001b[1;36m2\u001b[0m\u001b[1;33m:\u001b[0m\u001b[1;33m\u001b[0m\u001b[1;33m\u001b[0m\u001b[0m\n",
      "\u001b[1;31mValueError\u001b[0m: x and y must have same first dimension, but have shapes (12,) and (2,)"
     ]
    }
   ],
   "source": [
    "fig2, ax2 = plt.subplots()\n",
    "fig2.set_dpi(150)\n",
    "for (s, tau) in zip(ss,taus):\n",
    "    ax2.plot(t,s)\n",
    "\n",
    "ax2.set_xlabel('Time (s)')\n",
    "ax2.set_ylabel('Anisotropy (a.u.)')\n",
    "ax2.set_xscale('log')\n",
    "ax2.set_ylim([-0.2, 0.275])\n",
    "ax2.set_xlim([1e-6, 1e-3])\n",
    "ax2.legend([str(taus[i]) + ' s' for i, t in enumerate(taus)])\n",
    "plt.savefig('starss3_anisotropy_multiple_signals')\n",
    "    "
   ]
  },
  {
   "cell_type": "code",
   "execution_count": 14,
   "metadata": {},
   "outputs": [
    {
     "output_type": "execute_result",
     "data": {
      "text/plain": [
       "[(array([ 1.56109558,  1.56235512,  1.56235989,  1.56235989,         nan,\n",
       "                 nan,         nan,         nan,         nan,         nan,\n",
       "                 nan,         nan]),\n",
       "  <rotational_diffusion_photophysics.System at 0x1f97ca67348>),\n",
       " (array([ 1.55982782,  1.56197851,  1.56237497,  1.56237497,         nan,\n",
       "                 nan,         nan,         nan,         nan,         nan,\n",
       "                 nan,         nan]),\n",
       "  <rotational_diffusion_photophysics.System at 0x1f97ca67348>),\n",
       " (array([ 1.55912479,  1.56051785,  1.56233295,  1.56238035,         nan,\n",
       "                 nan,         nan,         nan,         nan,         nan,\n",
       "                 nan,         nan]),\n",
       "  <rotational_diffusion_photophysics.System at 0x1f97ca67348>),\n",
       " (array([ 1.55888912,  1.55948291,  1.56153037,  1.56238279,         nan,\n",
       "                 nan,         nan,         nan,         nan,         nan,\n",
       "                 nan,         nan]),\n",
       "  <rotational_diffusion_photophysics.System at 0x1f97ca67348>),\n",
       " (array([ 1.55859729,  1.55881881,  1.56000435,  1.56243718,         nan,\n",
       "                 nan,         nan,         nan,         nan,         nan,\n",
       "                 nan,         nan]),\n",
       "  <rotational_diffusion_photophysics.System at 0x1f97ca67348>),\n",
       " (array([ 1.55737347,  1.55750154,  1.5582877 ,  1.56163491,         nan,\n",
       "                 nan,         nan,         nan,         nan,         nan,\n",
       "                 nan,         nan]),\n",
       "  <rotational_diffusion_photophysics.System at 0x1f97ca67348>),\n",
       " (array([ 1.55570162,  1.5557621 ,  1.55615188,  1.55839377,         nan,\n",
       "                 nan,         nan,         nan,         nan,         nan,\n",
       "                 nan,         nan]),\n",
       "  <rotational_diffusion_photophysics.System at 0x1f97ca67348>),\n",
       " (array([ 1.55485371,  1.5548776 ,  1.5550337 ,  1.55601553,         nan,\n",
       "                 nan,         nan,         nan,         nan,         nan,\n",
       "                 nan,         nan]),\n",
       "  <rotational_diffusion_photophysics.System at 0x1f97ca67348>)]"
      ]
     },
     "metadata": {},
     "execution_count": 14
    }
   ],
   "source": [
    "    "
   ]
  },
  {
   "cell_type": "code",
   "execution_count": null,
   "metadata": {},
   "outputs": [],
   "source": []
  }
 ]
}