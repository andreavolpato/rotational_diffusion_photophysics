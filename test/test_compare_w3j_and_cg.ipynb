{
 "metadata": {
  "language_info": {
   "codemirror_mode": {
    "name": "ipython",
    "version": 3
   },
   "file_extension": ".py",
   "mimetype": "text/x-python",
   "name": "python",
   "nbconvert_exporter": "python",
   "pygments_lexer": "ipython3",
   "version": "3.7.7-final"
  },
  "orig_nbformat": 2,
  "kernelspec": {
   "name": "python3",
   "display_name": "Python 3.7.7 64-bit ('andre': virtualenv)",
   "metadata": {
    "interpreter": {
     "hash": "3be4393fbdaea0d3e38eb40ac2d5883d2125b4b1de2024ee4d550ff09fb43fc4"
    }
   }
  }
 },
 "nbformat": 4,
 "nbformat_minor": 2,
 "cells": [
  {
   "cell_type": "code",
   "execution_count": 1,
   "metadata": {},
   "outputs": [],
   "source": [
    "import pyshtools as sht\n",
    "import spherical as sf\n",
    "import numpy as np\n",
    "import starss_kinetics_difusion_solution as kd\n",
    "\n",
    "lmax = 5\n",
    "l1 = 0\n",
    "m1 = 0\n",
    "l2 = 2\n",
    "m2 = 0\n",
    "m3 = -m1-m2 # requirement for w3j to be non zero\n"
   ]
  },
  {
   "cell_type": "code",
   "execution_count": 2,
   "metadata": {},
   "outputs": [
    {
     "output_type": "stream",
     "name": "stdout",
     "text": [
      "[0.        0.        0.4472136 0.        0.        0.       ]\n[2]\n"
     ]
    }
   ],
   "source": [
    "# Compute w3j with sf\n",
    "calc3j = sf.Wigner3jCalculator(lmax, lmax)\n",
    "i = np.int((1-np.sign(m3))/2)\n",
    "l3 = np.arange(max(abs(l1-l2), abs(m3)), l1+l2+1)\n",
    "\n",
    "w3j = calc3j.calculate(l1, l2, m1, m2)\n",
    "w3j = w3j[range(lmax+1)]\n",
    "print(w3j)\n",
    "print(l3)"
   ]
  },
  {
   "cell_type": "code",
   "execution_count": 3,
   "metadata": {},
   "outputs": [
    {
     "output_type": "stream",
     "name": "stdout",
     "text": [
      "[0.0, 0.0, 0.4472135954999579, 0.0, 0.0, 0.0]\n"
     ]
    }
   ],
   "source": [
    "# Compute w3j from cg with sf\n",
    "cg = []\n",
    "for l3 in np.arange(lmax+1):\n",
    "    cgi = sf.clebsch_gordan(l1, m1, l2, m2, l3, -m3) * (-1)**(l1-l2-m3)/np.sqrt(2*l3+1)\n",
    "    cg.append(cgi)\n",
    "print(cg)\n"
   ]
  },
  {
   "cell_type": "code",
   "execution_count": 4,
   "metadata": {},
   "outputs": [
    {
     "output_type": "stream",
     "name": "stdout",
     "text": [
      "[0.        0.        0.4472136 0.        0.        0.       ]\n1\n[4]\n"
     ]
    }
   ],
   "source": [
    "# Compute 3j with sht\n",
    "w3j, l3min, l3max = sht.utils.Wigner3j (l1, l2, m3, m1, m2)\n",
    "l3 = np.arange(l3min, l3max+1)\n",
    "l3 = l3[l3<=lmax]\n",
    "w3j = w3j[np.arange(l3.size)]\n",
    "w3jl = np.zeros(lmax+1)\n",
    "w3jl[l3] = w3j\n",
    "print(w3jl)\n",
    "\n",
    "# Index for cosine and sine sh\n",
    "i = np.uint(1.5-np.sign(-m3)/2)\n",
    "k = np.uint(l3**2+(i-1)*l3+np.abs(m3))\n",
    "\n",
    "print(i)\n",
    "print(k)"
   ]
  },
  {
   "cell_type": "code",
   "execution_count": 5,
   "metadata": {},
   "outputs": [
    {
     "output_type": "stream",
     "name": "stdout",
     "text": [
      "[0.0, 0.0, 0.4472135954999579, 0.0, 0.0, 0.0]\n"
     ]
    }
   ],
   "source": [
    "# Compute w3j from cg with sf\n",
    "w3j = []\n",
    "for l3 in range(lmax+1):\n",
    "    w3j.append(sf.clebsch_gordan(l1,m1,l2,m2,l3,-m3)  * (-1)**(l1-l2-m3) / np.sqrt(2*l3+1) )\n",
    "print(w3j)"
   ]
  },
  {
   "cell_type": "code",
   "execution_count": 6,
   "metadata": {},
   "outputs": [
    {
     "output_type": "execute_result",
     "data": {
      "text/plain": [
       "array([0, 1, 2, 3, 4, 5, 6, 7, 8, 9])"
      ]
     },
     "metadata": {},
     "execution_count": 6
    }
   ],
   "source": [
    "np.int32(np.arange(10))"
   ]
  },
  {
   "cell_type": "code",
   "execution_count": null,
   "metadata": {},
   "outputs": [],
   "source": []
  },
  {
   "cell_type": "code",
   "execution_count": null,
   "metadata": {},
   "outputs": [],
   "source": []
  }
 ]
}