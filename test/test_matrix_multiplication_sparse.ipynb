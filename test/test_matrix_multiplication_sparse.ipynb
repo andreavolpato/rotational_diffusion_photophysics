{
 "metadata": {
  "language_info": {
   "codemirror_mode": {
    "name": "ipython",
    "version": 3
   },
   "file_extension": ".py",
   "mimetype": "text/x-python",
   "name": "python",
   "nbconvert_exporter": "python",
   "pygments_lexer": "ipython3",
   "version": "3.7.7-final"
  },
  "orig_nbformat": 2,
  "kernelspec": {
   "name": "python377jvsc74a57bd03be4393fbdaea0d3e38eb40ac2d5883d2125b4b1de2024ee4d550ff09fb43fc4",
   "display_name": "Python 3.7.7 64-bit (conda)"
  }
 },
 "nbformat": 4,
 "nbformat_minor": 2,
 "cells": [
  {
   "cell_type": "code",
   "execution_count": 58,
   "metadata": {},
   "outputs": [],
   "source": [
    "import numpy as np\n",
    "import scipy.sparse as sparse\n",
    "import scipy.linalg as linalg\n",
    "from scipy.sparse.linalg import expm\n",
    "import matplotlib.pyplot as plt\n",
    "import codetiming\n"
   ]
  },
  {
   "cell_type": "code",
   "execution_count": 59,
   "metadata": {},
   "outputs": [],
   "source": [
    "N = 1000\n",
    "np.random.seed(0)\n",
    "A = np.random.uniform(size=(N,N))\n",
    "A[A<0.98] = 0\n",
    "As = sparse.lil_matrix(A,shape=(N,N))"
   ]
  },
  {
   "cell_type": "code",
   "execution_count": 60,
   "metadata": {},
   "outputs": [
    {
     "output_type": "stream",
     "name": "stdout",
     "text": [
      "Elapsed time: 3.0469 seconds\n"
     ]
    },
    {
     "output_type": "execute_result",
     "data": {
      "text/plain": [
       "3.046871000000465"
      ]
     },
     "metadata": {},
     "execution_count": 60
    }
   ],
   "source": [
    "t1 = codetiming.Timer()\n",
    "t1.start()\n",
    "L, U = np.linalg.eig(A)\n",
    "Uinv = np.linalg.inv(U)\n",
    "t1.stop()"
   ]
  },
  {
   "cell_type": "code",
   "execution_count": 61,
   "metadata": {},
   "outputs": [
    {
     "output_type": "stream",
     "name": "stdout",
     "text": [
      "Elapsed time: 5.6361 seconds\n",
      "Elapsed time: 0.3567 seconds\n",
      "Elapsed time: 3.4387 seconds\n",
      "Elapsed time: 0.0947 seconds\n"
     ]
    },
    {
     "output_type": "execute_result",
     "data": {
      "text/plain": [
       "0.09465970000019297"
      ]
     },
     "metadata": {},
     "execution_count": 61
    }
   ],
   "source": [
    "# Load data\n",
    "data = np.load('../M_example_lmax8.npz')\n",
    "M = data['M']\n",
    "\n",
    "# Test time\n",
    "times = np.logspace(-8,-2,128)\n",
    "\n",
    "# Fake initial conditions\n",
    "c0 = np.random.uniform(size=(M.shape[0]))\n",
    "c0[c0<0.95] = 0\n",
    "\n",
    "# Sparse matrix exponentiation\n",
    "t3 = codetiming.Timer()\n",
    "t3.start()\n",
    "Ms = sparse.csc_matrix(M)\n",
    "for t in times:\n",
    "    Es = expm(Ms*t)\n",
    "    ci = Es.dot(c0)\n",
    "t3.stop()\n",
    "\n",
    "# Normal diagonalization plus exponential\n",
    "# https://www.benjaminjohnston.com.au/matmul\n",
    "t1 = codetiming.Timer()\n",
    "t1.start()\n",
    "L, U = np.linalg.eig(M)\n",
    "Uinv = np.linalg.inv(U)\n",
    "for t in times:\n",
    "    ci = np.matmul(U, np.diag(np.exp(L*t)))\n",
    "    ci = np.matmul(ci, Uinv)\n",
    "    ci = ci.dot(c0)\n",
    "t1.stop()\n",
    "\n",
    "\n",
    "# Sparse matrix exponentiation\n",
    "t3 = codetiming.Timer()\n",
    "t3.start()\n",
    "for t in times:\n",
    "    Es = linalg.expm(M*t)\n",
    "    ci = Es.dot(c0)\n",
    "t3.stop()\n",
    "\n",
    "# Normal diagonalization plus exponential transposed\n",
    "# https://www.benjaminjohnston.com.au/matmul\n",
    "t1 = codetiming.Timer()\n",
    "t1.start()\n",
    "L, U = np.linalg.eig(M)\n",
    "Uinv = np.linalg.inv(U)\n",
    "ci = c0.dot(Uinv.T)\n",
    "for t in times:\n",
    "    ci = np.matmul(ci, np.diag(np.exp(L*t)))\n",
    "    ci = np.matmul(ci, U.T)\n",
    "t1.stop()\n",
    "\n",
    "# The sparse.linalg.expm algoritm is faster for large lmax for several up to evaluations\n",
    "# The linalg.expm algoritm is faster for 1 or 2 evaluations"
   ]
  },
  {
   "cell_type": "code",
   "execution_count": 62,
   "metadata": {},
   "outputs": [
    {
     "output_type": "execute_result",
     "data": {
      "text/plain": [
       "array([[3.42670994e-30, 0.00000000e+00, 0.00000000e+00, ...,\n",
       "        0.00000000e+00, 0.00000000e+00, 0.00000000e+00],\n",
       "       [0.00000000e+00, 4.27093179e-91, 0.00000000e+00, ...,\n",
       "        0.00000000e+00, 0.00000000e+00, 0.00000000e+00],\n",
       "       [0.00000000e+00, 0.00000000e+00, 1.56474721e-38, ...,\n",
       "        0.00000000e+00, 0.00000000e+00, 0.00000000e+00],\n",
       "       ...,\n",
       "       [0.00000000e+00, 0.00000000e+00, 0.00000000e+00, ...,\n",
       "        0.00000000e+00, 0.00000000e+00, 0.00000000e+00],\n",
       "       [0.00000000e+00, 0.00000000e+00, 0.00000000e+00, ...,\n",
       "        0.00000000e+00, 0.00000000e+00, 0.00000000e+00],\n",
       "       [0.00000000e+00, 0.00000000e+00, 0.00000000e+00, ...,\n",
       "        0.00000000e+00, 0.00000000e+00, 0.00000000e+00]])"
      ]
     },
     "metadata": {},
     "execution_count": 62
    }
   ],
   "source": [
    "Es"
   ]
  },
  {
   "cell_type": "code",
   "execution_count": 63,
   "metadata": {},
   "outputs": [
    {
     "output_type": "stream",
     "name": "stdout",
     "text": [
      "Elapsed time: 2.6191 seconds\n"
     ]
    },
    {
     "output_type": "execute_result",
     "data": {
      "text/plain": [
       "2.6191108000002714"
      ]
     },
     "metadata": {},
     "execution_count": 63
    }
   ],
   "source": [
    "# Try the sparse matrix multiplication\n",
    "t1 = codetiming.Timer()\n",
    "t1.start()\n",
    "L, U = np.linalg.eig(M)\n",
    "Uinv = np.linalg.inv(U)\n",
    "Us = sparse.bsr_matrix(U)\n",
    "Uinvs = sparse.bsr_matrix(Uinv)\n",
    "for t in times:\n",
    "    ci = Us.dot(sparse.diags(np.exp(L*t)))\n",
    "    ci = ci.dot(Uinvs)\n",
    "t1.stop()"
   ]
  },
  {
   "cell_type": "code",
   "execution_count": 64,
   "metadata": {},
   "outputs": [
    {
     "output_type": "stream",
     "name": "stdout",
     "text": [
      "Elapsed time: 2.4273 seconds\n",
      "Elapsed time: 2.2354 seconds\n",
      "True\n"
     ]
    }
   ],
   "source": [
    "# Test of multiplying by c0 before hand can speed up the calculation by increasing sparsity\n",
    "\n",
    "# Load data\n",
    "data = np.load('../M_example_lmax20.npz')\n",
    "M = data['M']\n",
    "\n",
    "# Test time\n",
    "times = np.logspace(-8,-2,1)\n",
    "\n",
    "\n",
    "c0 = np.zeros([M.shape[0]])\n",
    "c0[0] = 1\n",
    "\n",
    "# Normal diagonalization plus exponential\n",
    "# https://www.benjaminjohnston.com.au/matmul\n",
    "t1 = codetiming.Timer()\n",
    "t1.start()\n",
    "L, U = np.linalg.eig(M)\n",
    "Uinv = np.linalg.inv(U)\n",
    "for t in times:\n",
    "    cin = np.matmul(U, np.diag(np.exp(L*t)))\n",
    "    cin = np.matmul(cin, Uinv)\n",
    "    cin = cin.dot(c0)\n",
    "t1.stop()\n",
    "\n",
    "# Normal diagonalization plus exponential transposed\n",
    "# https://www.benjaminjohnston.com.au/matmul\n",
    "t1 = codetiming.Timer()\n",
    "t1.start()\n",
    "L, U = np.linalg.eig(M)\n",
    "Uinv = np.linalg.inv(U)\n",
    "ci = c0.dot(Uinv.T)\n",
    "for t in times:\n",
    "    ci = np.matmul(ci, np.diag(np.exp(L*t)))\n",
    "    ci = np.matmul(ci, U.T)\n",
    "t1.stop()\n",
    "print(np.allclose(cin, ci))\n",
    "\n",
    "# # Normal diagonalization plus exponential transposed and sparse\n",
    "# # https://www.benjaminjohnston.com.au/matmul\n",
    "# t1 = codetiming.Timer()\n",
    "# t1.start()\n",
    "# L, U = np.linalg.eig(M)\n",
    "# Uinv = np.linalg.inv(U)\n",
    "# ci = c0.dot(Uinv.T)\n",
    "# Us = sparse.csc_matrix(U)\n",
    "# for t in times:\n",
    "#     ci = ci.dot(sparse.diags(np.exp(L*t)))\n",
    "#     print(ci.shape)\n",
    "#     ci = ci.dot(Us.T)\n",
    "# t1.stop()\n",
    "# print(np.allclose(cin, ci))"
   ]
  },
  {
   "cell_type": "code",
   "execution_count": 65,
   "metadata": {},
   "outputs": [
    {
     "output_type": "execute_result",
     "data": {
      "text/plain": [
       "(1323,)"
      ]
     },
     "metadata": {},
     "execution_count": 65
    }
   ],
   "source": [
    "ci.shape"
   ]
  },
  {
   "cell_type": "code",
   "execution_count": null,
   "metadata": {},
   "outputs": [],
   "source": []
  }
 ]
}