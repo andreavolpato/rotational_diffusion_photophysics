{
 "metadata": {
  "language_info": {
   "codemirror_mode": {
    "name": "ipython",
    "version": 3
   },
   "file_extension": ".py",
   "mimetype": "text/x-python",
   "name": "python",
   "nbconvert_exporter": "python",
   "pygments_lexer": "ipython3",
   "version": "3.7.7-final"
  },
  "orig_nbformat": 2,
  "kernelspec": {
   "name": "python3",
   "display_name": "Python 3.7.7 64-bit ('andre': virtualenv)",
   "metadata": {
    "interpreter": {
     "hash": "3be4393fbdaea0d3e38eb40ac2d5883d2125b4b1de2024ee4d550ff09fb43fc4"
    }
   }
  }
 },
 "nbformat": 4,
 "nbformat_minor": 2,
 "cells": [
  {
   "cell_type": "code",
   "execution_count": 7,
   "metadata": {},
   "outputs": [
    {
     "output_type": "error",
     "ename": "AttributeError",
     "evalue": "'NoneType' object has no attribute 'lats'",
     "traceback": [
      "\u001b[1;31m---------------------------------------------------------------------------\u001b[0m",
      "\u001b[1;31mAttributeError\u001b[0m                            Traceback (most recent call last)",
      "\u001b[1;32m<ipython-input-7-733be4051a4e>\u001b[0m in \u001b[0;36m<module>\u001b[1;34m\u001b[0m\n\u001b[0;32m      8\u001b[0m \u001b[1;31m# Make angles\u001b[0m\u001b[1;33m\u001b[0m\u001b[1;33m\u001b[0m\u001b[1;33m\u001b[0m\u001b[0m\n\u001b[0;32m      9\u001b[0m \u001b[0mlmax\u001b[0m \u001b[1;33m=\u001b[0m \u001b[1;36m4\u001b[0m\u001b[1;33m\u001b[0m\u001b[1;33m\u001b[0m\u001b[0m\n\u001b[1;32m---> 10\u001b[1;33m \u001b[0momega\u001b[0m \u001b[1;33m=\u001b[0m \u001b[0mkd\u001b[0m\u001b[1;33m.\u001b[0m\u001b[0mmake_angles\u001b[0m\u001b[1;33m(\u001b[0m\u001b[0mlmax\u001b[0m\u001b[1;33m)\u001b[0m\u001b[1;33m\u001b[0m\u001b[1;33m\u001b[0m\u001b[0m\n\u001b[0m",
      "\u001b[1;32mc:\\Users\\andre\\Google Drive\\theoretical\\2021_03_24_test_with_spherical_harmonics\\starss_kinetics_difusion_solution.py\u001b[0m in \u001b[0;36mmake_angles\u001b[1;34m(lmax)\u001b[0m\n\u001b[0;32m     41\u001b[0m     \u001b[1;31m# cos2 = sht.SHGrid.from_zeros(lmax=lmax)\u001b[0m\u001b[1;33m\u001b[0m\u001b[1;33m\u001b[0m\u001b[1;33m\u001b[0m\u001b[0m\n\u001b[0;32m     42\u001b[0m     \u001b[0mcos2\u001b[0m \u001b[1;33m=\u001b[0m \u001b[0msht\u001b[0m\u001b[1;33m.\u001b[0m\u001b[0mshclasses\u001b[0m\u001b[1;33m.\u001b[0m\u001b[0mDHComplexGrid\u001b[0m\u001b[1;33m.\u001b[0m\u001b[0mfrom_zeros\u001b[0m\u001b[1;33m(\u001b[0m\u001b[0mlmax\u001b[0m\u001b[1;33m=\u001b[0m\u001b[1;36m2\u001b[0m\u001b[1;33m)\u001b[0m\u001b[1;33m\u001b[0m\u001b[1;33m\u001b[0m\u001b[0m\n\u001b[1;32m---> 43\u001b[1;33m     \u001b[0mtheta\u001b[0m \u001b[1;33m=\u001b[0m \u001b[0mcos2\u001b[0m\u001b[1;33m.\u001b[0m\u001b[0mlats\u001b[0m\u001b[1;33m(\u001b[0m\u001b[1;33m)\u001b[0m\u001b[1;33m\u001b[0m\u001b[1;33m\u001b[0m\u001b[0m\n\u001b[0m\u001b[0;32m     44\u001b[0m     \u001b[0mphi\u001b[0m \u001b[1;33m=\u001b[0m \u001b[0mcos2\u001b[0m\u001b[1;33m.\u001b[0m\u001b[0mlons\u001b[0m\u001b[1;33m(\u001b[0m\u001b[1;33m)\u001b[0m\u001b[1;33m\u001b[0m\u001b[1;33m\u001b[0m\u001b[0m\n\u001b[0;32m     45\u001b[0m     \u001b[0momega\u001b[0m \u001b[1;33m=\u001b[0m \u001b[0mnp\u001b[0m\u001b[1;33m.\u001b[0m\u001b[0mmeshgrid\u001b[0m\u001b[1;33m(\u001b[0m\u001b[0mtheta\u001b[0m\u001b[1;33m,\u001b[0m\u001b[0mphi\u001b[0m\u001b[1;33m)\u001b[0m\u001b[1;33m\u001b[0m\u001b[1;33m\u001b[0m\u001b[0m\n",
      "\u001b[1;31mAttributeError\u001b[0m: 'NoneType' object has no attribute 'lats'"
     ]
    }
   ],
   "source": [
    "# Import the modules\n",
    "import starss_kinetics_difusion_solution as kd\n",
    "import numpy as np\n",
    "import pyshtools as sht\n",
    "import matplotlib.pyplot as plt\n",
    "from codetiming import Timer\n",
    "\n",
    "# Make angles\n",
    "lmax = 4\n",
    "omega = kd.make_angles(lmax)"
   ]
  },
  {
   "cell_type": "code",
   "execution_count": 6,
   "metadata": {},
   "outputs": [],
   "source": [
    "g = sht.shclasses.DHComplexGrid.from_zeros(lmax=2)\n"
   ]
  },
  {
   "cell_type": "code",
   "execution_count": null,
   "metadata": {},
   "outputs": [],
   "source": []
  },
  {
   "cell_type": "code",
   "execution_count": null,
   "metadata": {},
   "outputs": [],
   "source": []
  },
  {
   "cell_type": "code",
   "execution_count": null,
   "metadata": {},
   "outputs": [],
   "source": []
  }
 ]
}